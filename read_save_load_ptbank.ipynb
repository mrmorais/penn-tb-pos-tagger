{
 "cells": [
  {
   "cell_type": "markdown",
   "metadata": {},
   "source": [
    "# Reading, Saving and Loading PTbank files"
   ]
  },
  {
   "cell_type": "markdown",
   "metadata": {},
   "source": [
    "Given a raw Penn Treebank file with labeled sentences (**instances**) the `postag` library is able to read it and parse it to the library own notation with Python objects. Here's how a PT bank instance looks like in a .txt file, for instance:\n",
    "\n",
    "```\n",
    "((NP (DT an) (NNP Oct.) (CD 19) (NN review)))\n",
    "```\n",
    "\n",
    "The most external parentheses indicates that this line represents a unique instance, that begins with a `NP` class."
   ]
  },
  {
   "cell_type": "markdown",
   "metadata": {},
   "source": [
    "## Reading a raw labeled file"
   ]
  },
  {
   "cell_type": "markdown",
   "metadata": {},
   "source": [
    "In order to read a labeled file using postag import the Treebank class. Then use the method `read_file` with the path as argument."
   ]
  },
  {
   "cell_type": "code",
   "execution_count": 9,
   "metadata": {},
   "outputs": [
    {
     "name": "stdout",
     "output_type": "stream",
     "text": [
      "It took 46.40592646598816 seconds to read it!\n"
     ]
    }
   ],
   "source": [
    "import time\n",
    "from postag import Treebank\n",
    "\n",
    "start = time.time()\n",
    "ptb = Treebank.read_file('data/traindata')\n",
    "end = time.time()\n",
    "\n",
    "print(\"It took \" + str(end-start) + \" seconds to read it!\")"
   ]
  },
  {
   "cell_type": "code",
   "execution_count": 11,
   "metadata": {},
   "outputs": [
    {
     "data": {
      "text/plain": [
       "39831"
      ]
     },
     "execution_count": 11,
     "metadata": {},
     "output_type": "execute_result"
    }
   ],
   "source": [
    "len(ptb.instances) # Number of instances in the PT bank set"
   ]
  },
  {
   "cell_type": "markdown",
   "metadata": {},
   "source": [
    "As you can see, a large instance set can take a long time to be parsed and loaded in memory. That's why storing the ptbank generated structure itself is a good way to improve this loading time."
   ]
  },
  {
   "cell_type": "markdown",
   "metadata": {},
   "source": [
    "## Saving and loading"
   ]
  },
  {
   "cell_type": "markdown",
   "metadata": {},
   "source": [
    "With the current ptbank structure loaded in memory, just use the `.save` method passing the storage path as argument. Notice that the generated file is heavier than the original one."
   ]
  },
  {
   "cell_type": "code",
   "execution_count": 13,
   "metadata": {},
   "outputs": [],
   "source": [
    "ptb.save('data/dumps/my_ptb_struct')"
   ]
  },
  {
   "cell_type": "markdown",
   "metadata": {},
   "source": [
    "The command to load a ptbank struct is also pretty simple. `.load` method loads the structure in an existing instance of Treebank. Note that if the current instance already has any instance they will be deleted."
   ]
  },
  {
   "cell_type": "code",
   "execution_count": 14,
   "metadata": {},
   "outputs": [
    {
     "name": "stdout",
     "output_type": "stream",
     "text": [
      "This time it just took 4.44110107421875 seconds to load!\n"
     ]
    }
   ],
   "source": [
    "start = time.time()\n",
    "\n",
    "my_new_ptb = Treebank()\n",
    "my_new_ptb.load('data/dumps/my_ptb_struct')\n",
    "\n",
    "end = time.time()\n",
    "\n",
    "print(\"This time it just took \" + str(end-start) + \" seconds to load!\")"
   ]
  }
 ],
 "metadata": {
  "kernelspec": {
   "display_name": "Python 3",
   "language": "python",
   "name": "python3"
  },
  "language_info": {
   "codemirror_mode": {
    "name": "ipython",
    "version": 3
   },
   "file_extension": ".py",
   "mimetype": "text/x-python",
   "name": "python",
   "nbconvert_exporter": "python",
   "pygments_lexer": "ipython3",
   "version": "3.7.4"
  }
 },
 "nbformat": 4,
 "nbformat_minor": 4
}