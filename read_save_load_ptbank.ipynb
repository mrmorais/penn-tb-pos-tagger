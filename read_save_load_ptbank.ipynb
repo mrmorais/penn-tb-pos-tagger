{
 "cells": [
  {
   "cell_type": "markdown",
   "metadata": {},
   "source": [
    "# Reading, Saving and Loading PTbank files"
   ]
  },
  {
   "cell_type": "markdown",
   "metadata": {},
   "source": [
    "Given a raw Penn Treebank file with labeled sentences (**instances**) the `postag` library is able to read it and parse it to the library own notation with Python objects. Here's how a PT bank instance looks like in a .txt file, for instance:\n",
    "\n",
    "```\n",
    "((NP (DT an) (NNP Oct.) (CD 19) (NN review)))\n",
    "```\n",
    "\n",
    "The most external parentheses indicates that this line represents a unique instance, that begins with a `NP` class."
   ]
  },
  {
   "cell_type": "markdown",
   "metadata": {},
   "source": [
    "## Reading a raw labeled file"
   ]
  },
  {
   "cell_type": "markdown",
   "metadata": {},
   "source": [
    "In order to read a labeled file using postag import the Treebank class. Then use the method `read_file` with the path as argument."
   ]
  },
  {
   "cell_type": "code",
   "execution_count": 2,
   "metadata": {},
   "outputs": [
    {
     "name": "stdout",
     "output_type": "stream",
     "text": "It took 11.052475690841675 seconds to read it!\n"
    }
   ],
   "source": [
    "import time\n",
    "from postag import Treebank\n",
    "\n",
    "start = time.time()\n",
    "ptb = Treebank.read_file('data/traindata')\n",
    "end = time.time()\n",
    "\n",
    "print(\"It took \" + str(end-start) + \" seconds to read it!\")"
   ]
  },
  {
   "cell_type": "code",
   "execution_count": 3,
   "metadata": {},
   "outputs": [
    {
     "data": {
      "text/plain": "39831"
     },
     "execution_count": 3,
     "metadata": {},
     "output_type": "execute_result"
    }
   ],
   "source": [
    "len(ptb.instances) # Number of instances in the PT bank set"
   ]
  },
  {
   "cell_type": "markdown",
   "metadata": {},
   "source": [
    "It is possible to access the tree and walk through it for a object in the instance set, fetching by the index of the entity. For instance `ptb[0]` returns the first instance loaded to `ptb`. When printed, the result is a human-readable structure for a better interpretation of the object."
   ]
  },
  {
   "cell_type": "code",
   "execution_count": 4,
   "metadata": {},
   "outputs": [
    {
     "name": "stdout",
     "output_type": "stream",
     "text": "((S (NP-SBJ (NNP Ms.)\n    (NNP Haag))\n  (VP (VBZ plays)\n    (NP (NNP Elianti)))\n  (. .)))\n"
    }
   ],
   "source": [
    "print(ptb[1]) # the second instance"
   ]
  },
  {
   "cell_type": "code",
   "execution_count": 5,
   "metadata": {},
   "outputs": [
    {
     "name": "stdout",
     "output_type": "stream",
     "text": "(VBZ plays)\n"
    }
   ],
   "source": [
    "print(ptb[1][0][1][0]) # accessing a element in the tree"
   ]
  },
  {
   "cell_type": "markdown",
   "metadata": {},
   "source": [
    "You can see the nodes of a instance or fetch all nodes from the treebank using `.get_nodes()`"
   ]
  },
  {
   "cell_type": "code",
   "execution_count": 15,
   "metadata": {},
   "outputs": [
    {
     "name": "stdout",
     "output_type": "stream",
     "text": "(NNP Ms.)\n(NNP Haag)\n(VBZ plays)\n(NNP Elianti)\n(. .)\n"
    }
   ],
   "source": [
    "# List nodes of the second instance\n",
    "for node in ptb[1].get_nodes():\n",
    "    print(node)"
   ]
  },
  {
   "cell_type": "code",
   "execution_count": 23,
   "metadata": {},
   "outputs": [
    {
     "name": "stdout",
     "output_type": "stream",
     "text": "Ms. Haag plays Elianti .\nMs. Haag plays Elianti ."
    }
   ],
   "source": [
    "# Print the sentence as a row:\n",
    "print(\" \".join([node.value for node in ptb[1].get_nodes()]))\n",
    "\n",
    "# A more readable alternative would be:\n",
    "for node in ptb[1].get_nodes():\n",
    "    print(\"%s \" % node.value, end='')"
   ]
  },
  {
   "cell_type": "markdown",
   "metadata": {},
   "source": [
    "## Saving and loading"
   ]
  },
  {
   "cell_type": "markdown",
   "metadata": {},
   "source": [
    "With the current ptbank structure loaded in memory, just use the `.save` method passing the storage path as argument."
   ]
  },
  {
   "cell_type": "code",
   "execution_count": 10,
   "metadata": {},
   "outputs": [
    {
     "data": {
      "text/plain": "'data/dumps/my_ptb_struct'"
     },
     "execution_count": 10,
     "metadata": {},
     "output_type": "execute_result"
    }
   ],
   "source": [
    "ptb.save('data/dumps/my_ptb_struct')"
   ]
  },
  {
   "cell_type": "markdown",
   "metadata": {},
   "source": [
    "The command to load a ptbank struct is also pretty simple. `.load` method loads the structure in an existing instance of Treebank. Note that if the current instance already has any instance they will be deleted."
   ]
  },
  {
   "cell_type": "code",
   "execution_count": 11,
   "metadata": {},
   "outputs": [
    {
     "name": "stdout",
     "output_type": "stream",
     "text": "It took 5.60997462272644 seconds to load!\n"
    }
   ],
   "source": [
    "start = time.time()\n",
    "\n",
    "my_new_ptb = Treebank()\n",
    "my_new_ptb.load('data/dumps/my_ptb_struct')\n",
    "\n",
    "end = time.time()\n",
    "\n",
    "print(\"It took \" + str(end-start) + \" seconds to load!\")"
   ]
  },
  {
   "cell_type": "code",
   "execution_count": 12,
   "metadata": {},
   "outputs": [
    {
     "name": "stdout",
     "output_type": "stream",
     "text": "((S (NP-SBJ (NNP Ms.)\n    (NNP Haag))\n  (VP (VBZ plays)\n    (NP (NNP Elianti)))\n  (. .)))\n"
    }
   ],
   "source": [
    "print(my_new_ptb[1])"
   ]
  }
 ],
 "metadata": {
  "kernelspec": {
   "display_name": "Python 3",
   "language": "python",
   "name": "python3"
  },
  "language_info": {
   "codemirror_mode": {
    "name": "ipython",
    "version": 3
   },
   "file_extension": ".py",
   "mimetype": "text/x-python",
   "name": "python",
   "nbconvert_exporter": "python",
   "pygments_lexer": "ipython3",
   "version": "3.7.4-final"
  }
 },
 "nbformat": 4,
 "nbformat_minor": 4
}